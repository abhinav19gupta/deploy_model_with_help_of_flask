{
 "cells": [
  {
   "cell_type": "markdown",
   "id": "977715ee",
   "metadata": {},
   "source": [
    "https://anaconda.org/anaconda/flask"
   ]
  },
  {
   "cell_type": "code",
   "execution_count": 1,
   "id": "81384317",
   "metadata": {},
   "outputs": [
    {
     "name": "stdout",
     "output_type": "stream",
     "text": [
      "Module imported successfully\n"
     ]
    }
   ],
   "source": [
    "from flask import Flask\n",
    "\n",
    "# Instantiate the Flask app\n",
    "app = Flask(__name__)\n",
    "\n",
    "@app.route('/') # Home directory\n",
    "def hello():\n",
    "    return \"Hello DS C34 NLP-DL track learners. Welcome to the class of Deployment\"\n",
    "\n",
    "# If you want to run this app, you must call the run()\n",
    "if __name__ == '__main__':\n",
    "    app.run(debug=True)"
   ]
  }
 ],
 "metadata": {
  "kernelspec": {
   "display_name": "Python 3",
   "language": "python",
   "name": "python3"
  },
  "language_info": {
   "codemirror_mode": {
    "name": "ipython",
    "version": 3
   },
   "file_extension": ".py",
   "mimetype": "text/x-python",
   "name": "python",
   "nbconvert_exporter": "python",
   "pygments_lexer": "ipython3",
   "version": "3.8.8"
  }
 },
 "nbformat": 4,
 "nbformat_minor": 5
}
